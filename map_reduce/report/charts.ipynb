{
 "cells": [
  {
   "cell_type": "code",
   "execution_count": 52,
   "id": "d7e514ca",
   "metadata": {},
   "outputs": [],
   "source": [
    "import pandas as pd"
   ]
  },
  {
   "cell_type": "code",
   "execution_count": 53,
   "id": "2842137e",
   "metadata": {},
   "outputs": [
    {
     "data": {
      "text/html": [
       "<div>\n",
       "<style scoped>\n",
       "    .dataframe tbody tr th:only-of-type {\n",
       "        vertical-align: middle;\n",
       "    }\n",
       "\n",
       "    .dataframe tbody tr th {\n",
       "        vertical-align: top;\n",
       "    }\n",
       "\n",
       "    .dataframe thead th {\n",
       "        text-align: right;\n",
       "    }\n",
       "</style>\n",
       "<table border=\"1\" class=\"dataframe\">\n",
       "  <thead>\n",
       "    <tr style=\"text-align: right;\">\n",
       "      <th></th>\n",
       "      <th>node</th>\n",
       "      <th>cpu</th>\n",
       "      <th>file</th>\n",
       "      <th>iter</th>\n",
       "      <th>time</th>\n",
       "    </tr>\n",
       "  </thead>\n",
       "  <tbody>\n",
       "    <tr>\n",
       "      <th>0</th>\n",
       "      <td>6</td>\n",
       "      <td>4</td>\n",
       "      <td>1gb.txt</td>\n",
       "      <td>1</td>\n",
       "      <td>140442.0</td>\n",
       "    </tr>\n",
       "    <tr>\n",
       "      <th>1</th>\n",
       "      <td>6</td>\n",
       "      <td>4</td>\n",
       "      <td>1gb.txt</td>\n",
       "      <td>2</td>\n",
       "      <td>134061.0</td>\n",
       "    </tr>\n",
       "    <tr>\n",
       "      <th>2</th>\n",
       "      <td>6</td>\n",
       "      <td>4</td>\n",
       "      <td>1gb.txt</td>\n",
       "      <td>3</td>\n",
       "      <td>151772.0</td>\n",
       "    </tr>\n",
       "    <tr>\n",
       "      <th>3</th>\n",
       "      <td>6</td>\n",
       "      <td>4</td>\n",
       "      <td>1gb.txt</td>\n",
       "      <td>4</td>\n",
       "      <td>152239.0</td>\n",
       "    </tr>\n",
       "    <tr>\n",
       "      <th>4</th>\n",
       "      <td>6</td>\n",
       "      <td>4</td>\n",
       "      <td>1gb.txt</td>\n",
       "      <td>5</td>\n",
       "      <td>156110.0</td>\n",
       "    </tr>\n",
       "    <tr>\n",
       "      <th>...</th>\n",
       "      <td>...</td>\n",
       "      <td>...</td>\n",
       "      <td>...</td>\n",
       "      <td>...</td>\n",
       "      <td>...</td>\n",
       "    </tr>\n",
       "    <tr>\n",
       "      <th>85</th>\n",
       "      <td>1</td>\n",
       "      <td>1</td>\n",
       "      <td>5gb.txt</td>\n",
       "      <td>6</td>\n",
       "      <td>204388.0</td>\n",
       "    </tr>\n",
       "    <tr>\n",
       "      <th>86</th>\n",
       "      <td>1</td>\n",
       "      <td>1</td>\n",
       "      <td>5gb.txt</td>\n",
       "      <td>7</td>\n",
       "      <td>205797.0</td>\n",
       "    </tr>\n",
       "    <tr>\n",
       "      <th>87</th>\n",
       "      <td>1</td>\n",
       "      <td>1</td>\n",
       "      <td>5gb.txt</td>\n",
       "      <td>8</td>\n",
       "      <td>207441.0</td>\n",
       "    </tr>\n",
       "    <tr>\n",
       "      <th>88</th>\n",
       "      <td>1</td>\n",
       "      <td>1</td>\n",
       "      <td>5gb.txt</td>\n",
       "      <td>9</td>\n",
       "      <td>206568.0</td>\n",
       "    </tr>\n",
       "    <tr>\n",
       "      <th>89</th>\n",
       "      <td>1</td>\n",
       "      <td>1</td>\n",
       "      <td>5gb.txt</td>\n",
       "      <td>10</td>\n",
       "      <td>206218.0</td>\n",
       "    </tr>\n",
       "  </tbody>\n",
       "</table>\n",
       "<p>90 rows × 5 columns</p>\n",
       "</div>"
      ],
      "text/plain": [
       "    node  cpu     file iter      time\n",
       "0      6    4  1gb.txt    1  140442.0\n",
       "1      6    4  1gb.txt    2  134061.0\n",
       "2      6    4  1gb.txt    3  151772.0\n",
       "3      6    4  1gb.txt    4  152239.0\n",
       "4      6    4  1gb.txt    5  156110.0\n",
       "..   ...  ...      ...  ...       ...\n",
       "85     1    1  5gb.txt    6  204388.0\n",
       "86     1    1  5gb.txt    7  205797.0\n",
       "87     1    1  5gb.txt    8  207441.0\n",
       "88     1    1  5gb.txt    9  206568.0\n",
       "89     1    1  5gb.txt   10  206218.0\n",
       "\n",
       "[90 rows x 5 columns]"
      ]
     },
     "execution_count": 53,
     "metadata": {},
     "output_type": "execute_result"
    }
   ],
   "source": [
    "df = pd.read_csv('times.txt')\n",
    "df"
   ]
  },
  {
   "cell_type": "code",
   "execution_count": 54,
   "id": "de922a69",
   "metadata": {},
   "outputs": [],
   "source": [
    "groupped = df.drop(columns=['iter']).groupby(['node', 'cpu', 'file'])"
   ]
  },
  {
   "cell_type": "code",
   "execution_count": 55,
   "id": "3b9cab9c",
   "metadata": {},
   "outputs": [
    {
     "data": {
      "text/html": [
       "<div>\n",
       "<style scoped>\n",
       "    .dataframe tbody tr th:only-of-type {\n",
       "        vertical-align: middle;\n",
       "    }\n",
       "\n",
       "    .dataframe tbody tr th {\n",
       "        vertical-align: top;\n",
       "    }\n",
       "\n",
       "    .dataframe thead th {\n",
       "        text-align: right;\n",
       "    }\n",
       "</style>\n",
       "<table border=\"1\" class=\"dataframe\">\n",
       "  <thead>\n",
       "    <tr style=\"text-align: right;\">\n",
       "      <th></th>\n",
       "      <th></th>\n",
       "      <th></th>\n",
       "      <th>time</th>\n",
       "    </tr>\n",
       "    <tr>\n",
       "      <th>node</th>\n",
       "      <th>cpu</th>\n",
       "      <th>file</th>\n",
       "      <th></th>\n",
       "    </tr>\n",
       "  </thead>\n",
       "  <tbody>\n",
       "    <tr>\n",
       "      <th rowspan=\"3\" valign=\"top\">1</th>\n",
       "      <th rowspan=\"3\" valign=\"top\">1</th>\n",
       "      <th>10gb.txt</th>\n",
       "      <td>432652.7</td>\n",
       "    </tr>\n",
       "    <tr>\n",
       "      <th>1gb.txt</th>\n",
       "      <td>42077.2</td>\n",
       "    </tr>\n",
       "    <tr>\n",
       "      <th>5gb.txt</th>\n",
       "      <td>205388.2</td>\n",
       "    </tr>\n",
       "    <tr>\n",
       "      <th rowspan=\"3\" valign=\"top\">6</th>\n",
       "      <th rowspan=\"3\" valign=\"top\">4</th>\n",
       "      <th>10gb.txt</th>\n",
       "      <td>540775.3</td>\n",
       "    </tr>\n",
       "    <tr>\n",
       "      <th>1gb.txt</th>\n",
       "      <td>142447.0</td>\n",
       "    </tr>\n",
       "    <tr>\n",
       "      <th>5gb.txt</th>\n",
       "      <td>140488.6</td>\n",
       "    </tr>\n",
       "    <tr>\n",
       "      <th rowspan=\"3\" valign=\"top\">12</th>\n",
       "      <th rowspan=\"3\" valign=\"top\">2</th>\n",
       "      <th>10gb.txt</th>\n",
       "      <td>574458.0</td>\n",
       "    </tr>\n",
       "    <tr>\n",
       "      <th>1gb.txt</th>\n",
       "      <td>140938.5</td>\n",
       "    </tr>\n",
       "    <tr>\n",
       "      <th>5gb.txt</th>\n",
       "      <td>136968.7</td>\n",
       "    </tr>\n",
       "  </tbody>\n",
       "</table>\n",
       "</div>"
      ],
      "text/plain": [
       "                       time\n",
       "node cpu file              \n",
       "1    1   10gb.txt  432652.7\n",
       "         1gb.txt    42077.2\n",
       "         5gb.txt   205388.2\n",
       "6    4   10gb.txt  540775.3\n",
       "         1gb.txt   142447.0\n",
       "         5gb.txt   140488.6\n",
       "12   2   10gb.txt  574458.0\n",
       "         1gb.txt   140938.5\n",
       "         5gb.txt   136968.7"
      ]
     },
     "execution_count": 55,
     "metadata": {},
     "output_type": "execute_result"
    }
   ],
   "source": [
    "mean = groupped.mean()\n",
    "mean"
   ]
  },
  {
   "cell_type": "code",
   "execution_count": 56,
   "id": "583861d6",
   "metadata": {},
   "outputs": [
    {
     "data": {
      "text/html": [
       "<div>\n",
       "<style scoped>\n",
       "    .dataframe tbody tr th:only-of-type {\n",
       "        vertical-align: middle;\n",
       "    }\n",
       "\n",
       "    .dataframe tbody tr th {\n",
       "        vertical-align: top;\n",
       "    }\n",
       "\n",
       "    .dataframe thead th {\n",
       "        text-align: right;\n",
       "    }\n",
       "</style>\n",
       "<table border=\"1\" class=\"dataframe\">\n",
       "  <thead>\n",
       "    <tr style=\"text-align: right;\">\n",
       "      <th></th>\n",
       "      <th></th>\n",
       "      <th></th>\n",
       "      <th>time</th>\n",
       "    </tr>\n",
       "    <tr>\n",
       "      <th>node</th>\n",
       "      <th>cpu</th>\n",
       "      <th>file</th>\n",
       "      <th></th>\n",
       "    </tr>\n",
       "  </thead>\n",
       "  <tbody>\n",
       "    <tr>\n",
       "      <th rowspan=\"3\" valign=\"top\">1</th>\n",
       "      <th rowspan=\"3\" valign=\"top\">1</th>\n",
       "      <th>10gb.txt</th>\n",
       "      <td>3210.747855</td>\n",
       "    </tr>\n",
       "    <tr>\n",
       "      <th>1gb.txt</th>\n",
       "      <td>2255.874346</td>\n",
       "    </tr>\n",
       "    <tr>\n",
       "      <th>5gb.txt</th>\n",
       "      <td>1363.782306</td>\n",
       "    </tr>\n",
       "    <tr>\n",
       "      <th rowspan=\"3\" valign=\"top\">6</th>\n",
       "      <th rowspan=\"3\" valign=\"top\">4</th>\n",
       "      <th>10gb.txt</th>\n",
       "      <td>34049.991206</td>\n",
       "    </tr>\n",
       "    <tr>\n",
       "      <th>1gb.txt</th>\n",
       "      <td>8007.697616</td>\n",
       "    </tr>\n",
       "    <tr>\n",
       "      <th>5gb.txt</th>\n",
       "      <td>10300.630220</td>\n",
       "    </tr>\n",
       "    <tr>\n",
       "      <th rowspan=\"3\" valign=\"top\">12</th>\n",
       "      <th rowspan=\"3\" valign=\"top\">2</th>\n",
       "      <th>10gb.txt</th>\n",
       "      <td>27784.359368</td>\n",
       "    </tr>\n",
       "    <tr>\n",
       "      <th>1gb.txt</th>\n",
       "      <td>4087.161804</td>\n",
       "    </tr>\n",
       "    <tr>\n",
       "      <th>5gb.txt</th>\n",
       "      <td>2959.546964</td>\n",
       "    </tr>\n",
       "  </tbody>\n",
       "</table>\n",
       "</div>"
      ],
      "text/plain": [
       "                           time\n",
       "node cpu file                  \n",
       "1    1   10gb.txt   3210.747855\n",
       "         1gb.txt    2255.874346\n",
       "         5gb.txt    1363.782306\n",
       "6    4   10gb.txt  34049.991206\n",
       "         1gb.txt    8007.697616\n",
       "         5gb.txt   10300.630220\n",
       "12   2   10gb.txt  27784.359368\n",
       "         1gb.txt    4087.161804\n",
       "         5gb.txt    2959.546964"
      ]
     },
     "execution_count": 56,
     "metadata": {},
     "output_type": "execute_result"
    }
   ],
   "source": [
    "std = groupped.std()\n",
    "std"
   ]
  },
  {
   "cell_type": "code",
   "execution_count": 57,
   "id": "ed6e2bb7",
   "metadata": {},
   "outputs": [],
   "source": [
    "plot_params = {\n",
    "    'figsize': (15,10),\n",
    "}"
   ]
  },
  {
   "cell_type": "code",
   "execution_count": 58,
   "id": "1967964b",
   "metadata": {},
   "outputs": [
    {
     "data": {
      "text/plain": [
       "<AxesSubplot:title={'center':'Time (s): Standard deviation'}, xlabel='node,cpu'>"
      ]
     },
     "execution_count": 58,
     "metadata": {},
     "output_type": "execute_result"
    },
    {
     "data": {
      "image/png": "[encoded data removed]",
      "text/plain": [
       "<Figure size 1080x720 with 1 Axes>"
      ]
     },
     "metadata": {
      "needs_background": "light"
     },
     "output_type": "display_data"
    }
   ],
   "source": [
    "title = 'Time (s): Standard deviation'\n",
    "std.reset_index().pivot(values='time', columns='file', index=['node', 'cpu']).plot(**plot_params, title=title)"
   ]
  },
  {
   "cell_type": "code",
   "execution_count": 59,
   "id": "9f091438",
   "metadata": {},
   "outputs": [
    {
     "data": {
      "text/plain": [
       "Index(['node', 'cpu', 'file', 'time'], dtype='object')"
      ]
     },
     "execution_count": 59,
     "metadata": {},
     "output_type": "execute_result"
    }
   ],
   "source": [
    "mean.reset_index().columns"
   ]
  },
  {
   "cell_type": "code",
   "execution_count": 65,
   "id": "52507a24",
   "metadata": {},
   "outputs": [
    {
     "data": {
      "text/html": [
       "<div>\n",
       "<style scoped>\n",
       "    .dataframe tbody tr th:only-of-type {\n",
       "        vertical-align: middle;\n",
       "    }\n",
       "\n",
       "    .dataframe tbody tr th {\n",
       "        vertical-align: top;\n",
       "    }\n",
       "\n",
       "    .dataframe thead th {\n",
       "        text-align: right;\n",
       "    }\n",
       "</style>\n",
       "<table border=\"1\" class=\"dataframe\">\n",
       "  <thead>\n",
       "    <tr style=\"text-align: right;\">\n",
       "      <th></th>\n",
       "      <th>file</th>\n",
       "      <th>10gb.txt</th>\n",
       "      <th>1gb.txt</th>\n",
       "      <th>5gb.txt</th>\n",
       "    </tr>\n",
       "    <tr>\n",
       "      <th>node</th>\n",
       "      <th>cpu</th>\n",
       "      <th></th>\n",
       "      <th></th>\n",
       "      <th></th>\n",
       "    </tr>\n",
       "  </thead>\n",
       "  <tbody>\n",
       "    <tr>\n",
       "      <th>1</th>\n",
       "      <th>1</th>\n",
       "      <td>432652.7</td>\n",
       "      <td>42077.2</td>\n",
       "      <td>205388.2</td>\n",
       "    </tr>\n",
       "    <tr>\n",
       "      <th>6</th>\n",
       "      <th>4</th>\n",
       "      <td>540775.3</td>\n",
       "      <td>142447.0</td>\n",
       "      <td>140488.6</td>\n",
       "    </tr>\n",
       "    <tr>\n",
       "      <th>12</th>\n",
       "      <th>2</th>\n",
       "      <td>574458.0</td>\n",
       "      <td>140938.5</td>\n",
       "      <td>136968.7</td>\n",
       "    </tr>\n",
       "  </tbody>\n",
       "</table>\n",
       "</div>"
      ],
      "text/plain": [
       "file      10gb.txt   1gb.txt   5gb.txt\n",
       "node cpu                              \n",
       "1    1    432652.7   42077.2  205388.2\n",
       "6    4    540775.3  142447.0  140488.6\n",
       "12   2    574458.0  140938.5  136968.7"
      ]
     },
     "execution_count": 65,
     "metadata": {},
     "output_type": "execute_result"
    }
   ],
   "source": [
    "pivoted = mean.reset_index().pivot(values='time', columns='file', index=['node', 'cpu'])\n",
    "pivoted"
   ]
  },
  {
   "cell_type": "code",
   "execution_count": 61,
   "id": "3498a6ff",
   "metadata": {},
   "outputs": [
    {
     "data": {
      "text/plain": [
       "<AxesSubplot:title={'center':'Time (s): Mean'}, xlabel='node,cpu'>"
      ]
     },
     "execution_count": 61,
     "metadata": {},
     "output_type": "execute_result"
    },
    {
     "data": {
      "image/png": "[encoded data removed]",
      "text/plain": [
       "<Figure size 1080x720 with 1 Axes>"
      ]
     },
     "metadata": {
      "needs_background": "light"
     },
     "output_type": "display_data"
    }
   ],
   "source": [
    "title = 'Time (s): Mean'\n",
    "pivoted.plot(**plot_params, title=title)"
   ]
  },
  {
   "cell_type": "code",
   "execution_count": 68,
   "id": "d17e48a7",
   "metadata": {},
   "outputs": [
    {
     "data": {
      "text/html": [
       "<div>\n",
       "<style scoped>\n",
       "    .dataframe tbody tr th:only-of-type {\n",
       "        vertical-align: middle;\n",
       "    }\n",
       "\n",
       "    .dataframe tbody tr th {\n",
       "        vertical-align: top;\n",
       "    }\n",
       "\n",
       "    .dataframe thead th {\n",
       "        text-align: right;\n",
       "    }\n",
       "</style>\n",
       "<table border=\"1\" class=\"dataframe\">\n",
       "  <thead>\n",
       "    <tr style=\"text-align: right;\">\n",
       "      <th></th>\n",
       "      <th>file</th>\n",
       "      <th>10gb.txt</th>\n",
       "      <th>1gb.txt</th>\n",
       "      <th>5gb.txt</th>\n",
       "    </tr>\n",
       "    <tr>\n",
       "      <th>node</th>\n",
       "      <th>cpu</th>\n",
       "      <th></th>\n",
       "      <th></th>\n",
       "      <th></th>\n",
       "    </tr>\n",
       "  </thead>\n",
       "  <tbody>\n",
       "    <tr>\n",
       "      <th>1</th>\n",
       "      <th>1</th>\n",
       "      <td>1.000000</td>\n",
       "      <td>1.000000</td>\n",
       "      <td>1.000000</td>\n",
       "    </tr>\n",
       "    <tr>\n",
       "      <th>6</th>\n",
       "      <th>4</th>\n",
       "      <td>0.800060</td>\n",
       "      <td>0.295388</td>\n",
       "      <td>1.461956</td>\n",
       "    </tr>\n",
       "    <tr>\n",
       "      <th>12</th>\n",
       "      <th>2</th>\n",
       "      <td>0.753149</td>\n",
       "      <td>0.298550</td>\n",
       "      <td>1.499527</td>\n",
       "    </tr>\n",
       "  </tbody>\n",
       "</table>\n",
       "</div>"
      ],
      "text/plain": [
       "file      10gb.txt   1gb.txt   5gb.txt\n",
       "node cpu                              \n",
       "1    1    1.000000  1.000000  1.000000\n",
       "6    4    0.800060  0.295388  1.461956\n",
       "12   2    0.753149  0.298550  1.499527"
      ]
     },
     "execution_count": 68,
     "metadata": {},
     "output_type": "execute_result"
    }
   ],
   "source": [
    "sdf = pivoted.apply(lambda x: 1/x).mul(pivoted.iloc[(0)])\n",
    "sdf"
   ]
  },
  {
   "cell_type": "code",
   "execution_count": 70,
   "id": "499cb09a",
   "metadata": {},
   "outputs": [
    {
     "data": {
      "text/plain": [
       "<AxesSubplot:title={'center':'Speedup'}, xlabel='node,cpu'>"
      ]
     },
     "execution_count": 70,
     "metadata": {},
     "output_type": "execute_result"
    },
    {
     "data": {
      "image/png": "[encoded data removed]",
      "text/plain": [
       "<Figure size 1080x720 with 1 Axes>"
      ]
     },
     "metadata": {
      "needs_background": "light"
     },
     "output_type": "display_data"
    }
   ],
   "source": [
    "title = 'Speedup'\n",
    "sdf.plot(**plot_params, title=title)"
   ]
  }
 ],
 "metadata": {
  "kernelspec": {
   "display_name": "Python 3 (ipykernel)",
   "language": "python",
   "name": "python3"
  },
  "language_info": {
   "codemirror_mode": {
    "name": "ipython",
    "version": 3
   },
   "file_extension": ".py",
   "mimetype": "text/x-python",
   "name": "python",
   "nbconvert_exporter": "python",
   "pygments_lexer": "ipython3",
   "version": "3.10.3"
  }
 },
 "nbformat": 4,
 "nbformat_minor": 5
}
